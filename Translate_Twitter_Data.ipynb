{
 "cells": [
  {
   "cell_type": "code",
   "execution_count": null,
   "metadata": {},
   "outputs": [],
   "source": [
    "#Translates User_Reported_Location for mixed language data. Writes data to a CSV file. \n",
    "\n",
    "\"\"\"\n",
    "Translate all languages\n",
    "\"\"\"\n",
    "\n",
    "__version__ = '0.0.2'\n",
    "\n",
    "import os\n",
    "import pandas as pd\n",
    "import json\n",
    "from csv import writer\n",
    "import translators as ts"
   ]
  },
  {
   "cell_type": "code",
   "execution_count": 8,
   "metadata": {},
   "outputs": [],
   "source": [
    "#The account_language_x_campaign.csv was generated in file \"translation.ipynb\"\n",
    "account_language_x_campaign = pd.read_csv('account_language_x_campaign.csv')\n",
    "account_language_x_campaign.info()"
   ]
  },
  {
   "cell_type": "code",
   "execution_count": null,
   "metadata": {},
   "outputs": [],
   "source": [
    "#Quick check of the translator\n",
    "import translators as ts\n",
    "wyw_text = '季姬寂，集鸡，鸡即棘鸡。棘鸡饥叽，季姬及箕稷济鸡。'\n",
    "chs_text = '季姬感到寂寞，罗集了一些鸡来养，鸡是那种出自荆棘丛中的野鸡。野鸡饿了唧唧叫，季姬就拿竹箕中的谷物喂鸡。'\n",
    "html_text = '''\n",
    "<!DOCTYPE html>\n",
    "<html>\n",
    "<head>\n",
    "\t<title>我是标题</title>\n",
    "</head>\n",
    "<body>\n",
    "<p>我是文章《你的父亲》</p>\n",
    "</body>\n",
    "</html>\n",
    "'''\n",
    "# input languages\n",
    "print(ts.google(chs_text)) # default: from_language='auto', to_language='en'\n",
    "## output language_map\n"
   ]
  },
  {
   "cell_type": "code",
   "execution_count": null,
   "metadata": {},
   "outputs": [],
   "source": [
    "#Translates User_Reported_Location for mixed language data. Writes data to a CSV file\n",
    "\n",
    "#Defines the output file name\n",
    "output_filename = 'account_language_x_campaign_translate.csv'\n",
    "\n",
    "#CSV writer\n",
    "def append_list_as_row(output_filename, translate_detect):\n",
    "    # Open file in append mode\n",
    "    with open(output_filename, 'a+', newline='') as write_obj:\n",
    "        # Create a writer object from csv module\n",
    "        csv_writer = writer(write_obj)\n",
    "        # Add contents of list as last row in the csv file\n",
    "        csv_writer.writerow(translate_detect)\n",
    "\n",
    "#Creates an empty list\n",
    "language_translate = []\n",
    "\n",
    "#Rate Limiter to not get booted from the API (period = seconds)\n",
    "rate_limiter = RateLimiter(max_calls=5, period=60)\n",
    "\n",
    "#Iterates through each row to translate to english. \n",
    "iter_len=len(account_language_x_campaign)\n",
    "for q in range(iter_len):\n",
    "    with rate_limiter:\n",
    "\n",
    "        try:\n",
    "            translate = account_language_x_campaign.user_reported_location_x[q]\n",
    "            translate_detect = (account_language_x_campaign.userid[q], account_language_x_campaign.user_reported_location_x[q], ts.google(translate), account_language_x_campaign.user_country[q], account_language_x_campaign.account_language_x[q], account_language_x_campaign.stem[q])\n",
    "            print(translate_detect)\n",
    "            append_list_as_row(output_filename, translate_detect)\n",
    "        except:\n",
    "            #print('TRANSLATION ERROR')\n",
    "            translate_detect = (account_language_x_campaign.userid[q], account_language_x_campaign.user_reported_location_x[q], 'TRANSLATION ERROR', account_language_x_campaign.user_country[q], account_language_x_campaign.account_language_x[q], account_language_x_campaign.stem[q])\n",
    "            append_list_as_row(output_filename, translate_detect)\n",
    "            continue"
   ]
  }
 ],
 "metadata": {
  "kernelspec": {
   "display_name": "Python 3.9.13 ('base')",
   "language": "python",
   "name": "python3"
  },
  "language_info": {
   "codemirror_mode": {
    "name": "ipython",
    "version": 3
   },
   "file_extension": ".py",
   "mimetype": "text/x-python",
   "name": "python",
   "nbconvert_exporter": "python",
   "pygments_lexer": "ipython3",
   "version": "3.9.13"
  },
  "orig_nbformat": 4,
  "vscode": {
   "interpreter": {
    "hash": "20b1e40ece8075d2fcf864399c567a664826219a1d0d61960c0b0a57baf01e74"
   }
  }
 },
 "nbformat": 4,
 "nbformat_minor": 2
}
