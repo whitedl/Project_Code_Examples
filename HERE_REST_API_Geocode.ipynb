{
 "cells": [
  {
   "cell_type": "code",
   "execution_count": 1,
   "metadata": {},
   "outputs": [],
   "source": [
    "# Geocodes place names using the HERE API\n",
    "\n",
    "import argparse\n",
    "import uuid\n",
    "import pandas as pd\n",
    "import os\n",
    "import requests\n",
    "import csv\n",
    "import logging\n",
    "import csv\n",
    "from csv import writer"
   ]
  },
  {
   "cell_type": "code",
   "execution_count": 2,
   "metadata": {},
   "outputs": [],
   "source": [
    "#Set Working Directory - Home Computer - NEW IMAC\n",
    "os.chdir('/Users/davidwhite/Box Sync/Default Sync Folder/Projects/Media_Forensics/Projects/satc/whitedl/domestic_disinfo/working')"
   ]
  },
  {
   "cell_type": "code",
   "execution_count": 3,
   "metadata": {},
   "outputs": [],
   "source": [
    "\n",
    "# set logger at root level and DEBUG level\n",
    "logger = logging.getLogger()\n",
    "logger.setLevel(logging.DEBUG)\n",
    "\n",
    "# create a file handler\n",
    "fh = logging.FileHandler('user_ids_locations.log')\n",
    "fh.setLevel(logging.DEBUG)\n",
    "logger.addHandler(fh)\n",
    "\n",
    "formatter = logging.Formatter('%(asctime)s  %(name)s  %(levelname)s: %(message)s')\n",
    "fh.setFormatter(formatter)"
   ]
  },
  {
   "cell_type": "code",
   "execution_count": 4,
   "metadata": {},
   "outputs": [],
   "source": [
    "# Set your output file name here.\n",
    "output_filename = 'user_ids_locations_out.csv'\n",
    "# Set your input file here\n",
    "input_filename = 'locations_demo.csv'\n",
    "# Specify the column name in your input data that contains addresses here\n",
    "address_column_name = \"user_reported_location\""
   ]
  },
  {
   "cell_type": "code",
   "execution_count": null,
   "metadata": {},
   "outputs": [],
   "source": [
    "# Read the data to a Pandas Dataframe\n",
    "data = pd.read_csv(input_filename, encoding='utf8')\n",
    "\n",
    "# Form a list of addresses for geocoding:\n",
    "# Make a big list of all of the addresses to be processed.\n",
    "addresses = data[address_column_name].tolist()\n",
    "print(addresses)\n"
   ]
  },
  {
   "cell_type": "code",
   "execution_count": 6,
   "metadata": {},
   "outputs": [],
   "source": [
    "def append_list_as_row(output_filename, output):\n",
    "    # Open file in append mode\n",
    "    with open(output_filename, 'a+', newline='') as write_obj:\n",
    "        # Create a writer object from csv module\n",
    "        csv_writer = writer(write_obj)\n",
    "        # Add contents of list as last row in the csv file\n",
    "        csv_writer.writerow(output)\n"
   ]
  },
  {
   "cell_type": "code",
   "execution_count": null,
   "metadata": {},
   "outputs": [],
   "source": [
    "# Read the data to a Pandas Dataframe\n",
    "data = pd.read_csv(input_filename, encoding='utf8')\n",
    "\n",
    "# Form a list of addresses for geocoding:\n",
    "# Make a big list of all of the addresses to be processed.\n",
    "addresses = data[address_column_name].tolist()\n",
    "#print(addresses)\n",
    "\n",
    "# Loop based on the CSV file that contains the locations to be geocoded\n",
    "iter_len=len(addresses)\n",
    "for q in range(iter_len):\n",
    "    # Defines the Rest API\n",
    "    geocode_url = \"https://geocode.search.hereapi.com/v1/geocode?q={}\".format(addresses[q]) + \"&apikey=YOUR API KEY\"\n",
    "    try:\n",
    "        results = requests.get(geocode_url)\n",
    "        #print('THIS IS THE CURRENT URL:', geocode_url), '\\n'\n",
    "\n",
    "    except requests.exceptions.RequestException as err:\n",
    "        repr(err)\n",
    "\n",
    "    else:\n",
    "        results = results.json()\n",
    "        print('Dictionary Results:',results)\n",
    "        if 'items' not in results: \n",
    "            output = ('NULL','NULL','NULL','NULL',addresses[q])\n",
    "            #print('NULL OUTPUT:', output), '\\n'\n",
    "            append_list_as_row(output_filename, output)\n",
    "            continue\n",
    "        \n",
    "\n",
    "    if results['items'] == []:\n",
    "        output = ('NULL','NULL','NULL','NULL',addresses[q])\n",
    "        #print('NULL OUTPUT:', output), '\\n'\n",
    "        append_list_as_row(output_filename, output)\n",
    "        continue\n",
    "                \n",
    "    else:\n",
    "        output = (    \n",
    "        results['items'][0]['position']['lat'],\n",
    "        results['items'][0]['position']['lng'],\n",
    "        results['items'][0]['address']['countryCode'],\n",
    "        results['items'][0]['address']['countryName'],\n",
    "        addresses[q]\n",
    "        )\n",
    "\n",
    "    append_list_as_row(output_filename, output)\n",
    "\n",
    "# A quick hack to get column labels. \n",
    "user_ids_locations_out = pd.read_csv('user_ids_locations_out.csv', header=None, names=['lat','long','countryCode','countryName','user_reported_location'])\n",
    "user_ids_locations_out.to_csv('user_ids_locations_out.csv')"
   ]
  }
 ],
 "metadata": {
  "interpreter": {
   "hash": "aee8b7b246df8f9039afb4144a1f6fd8d2ca17a180786b69acc140d282b71a49"
  },
  "kernelspec": {
   "display_name": "Python 3.9.7 64-bit",
   "name": "python3"
  },
  "language_info": {
   "codemirror_mode": {
    "name": "ipython",
    "version": 3
   },
   "file_extension": ".py",
   "mimetype": "text/x-python",
   "name": "python",
   "nbconvert_exporter": "python",
   "pygments_lexer": "ipython3",
   "version": "3.9.7"
  },
  "orig_nbformat": 4
 },
 "nbformat": 4,
 "nbformat_minor": 2
}
